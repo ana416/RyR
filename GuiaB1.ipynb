{
 "cells": [
  {
   "cell_type": "markdown",
   "id": "dfa772de-2fc8-4c4c-9c57-1f3d92866a5f",
   "metadata": {},
   "source": [
    "**Problema 1**\n",
    "\n",
    "Los detectores de radiaciones ionizantes tienen una tecnología muy variada, y la elección\n",
    "que se haga del tipo y diseño del detector dependerá fuertemente de su uso (radioprotección,\n",
    "obtención de imágenes, evaluación de dosis externa), así como también de las fuentes que\n",
    "necesitan medirse, de sus valores de actividad, de qué parámetros necesiten obtenerse y de las\n",
    "condiciones de las mediciones.\n",
    "\n",
    "En los Servicios de Radioterapia Externa se utilizan cámaras de ionización para la\n",
    "calibración de haces de fotones producidos por aceleradores lineales. Los haces tienen sección\n",
    "cuadrada (en general de 10 cm de lado) y energías de 3, 6 y 9 MeV.\n",
    "\n",
    "Parte de las calibraciones necesarias para el uso del equipo se realiza sumergiendo la\n",
    "cámara de ionización en una cuba de acrílico de 15,625 litros rellena con agua y midiendo la dosis\n",
    "absorbida a diferentes profundidades y en distintos lugares del área de un haz de fotones de 3\n",
    "MeV, para una misma profundidad. El acelerador lineal se configura para entregar una dosis en\n",
    "aire de 200 cGy/min a 100 cm de la salida del haz del equipo.\n",
    "\n",
    "Se necesita seleccionar una cámara de ionización para las calibraciones en una\n",
    "Instalación de Radioterapia ubicada en la ciudad de Paraná. En el Servicio se cuenta con\n",
    "termómetro de alcohol calibrado y el aeropuerto, que cuenta con estación meteorológica, se\n",
    "encuentra a 12 km de distancia. Realizando una búsqueda se encontró una cámara de ionización,\n",
    "cuya hoja de datos se adjunta a la guía. \n",
    "\n",
    "Se pide:\n",
    "a. Explicar y justificar cuáles serán los modos más probables de interacción entre la radiación\n",
    "producida en el acelerador y el agua de la cuba.\n",
    "\n",
    "b. Si la cámara de ionización se sumerge en el agua de la cuba 10 cm por debajo de la\n",
    "superficie, calcular la cantidad de fotones que llegarán a la entrada del detector en un\n",
    "período de 5 minutos. Realizar un esquema de la situación experimental.\n",
    "\n",
    "c. Calcular la dosis que se depositará en la cámara de ionización bajo las mismas\n",
    "condiciones.\n",
    "\n",
    "d. Enumere cuáles son las principales características que debe tener el instrumento de\n",
    "medición, en este caso la cámara de ionización, para poder realizar la calibración.\n",
    "\n",
    "e. Luego de revisar la hoja de datos y en función de lo planteado en el ítem anterior, indicar si\n",
    "la cámara de ionización propuesta se ajusta a los requerimientos de la práctica que\n",
    "necesita realizarse.\n",
    "\n",
    "f. ¿Por qué son importantes los datos respecto de la existencia de termómetro calibrado y de\n",
    "una estación meteorológica cercana, tanto para la calibración como para la elección de la\n",
    "cámara de ionización?\n",
    "\n",
    "g. ¿La dosis absorbida coincidirá con la lectura de la cámara de ionización? ¿Por qué?\n",
    "\n",
    "\n"
   ]
  },
  {
   "cell_type": "code",
   "execution_count": 1,
   "id": "a93846a4-afa6-46ec-b4c8-02f7c6543763",
   "metadata": {},
   "outputs": [],
   "source": [
    "from pint import UnitRegistry \n",
    "import matplotlib.pyplot as plt\n",
    "import numpy as np\n",
    "u = UnitRegistry()"
   ]
  },
  {
   "cell_type": "code",
   "execution_count": 90,
   "id": "eab4197b-ae9c-4125-8134-640c48ad2f73",
   "metadata": {},
   "outputs": [],
   "source": [
    "td = 200*u('cGy/min')\n",
    "td = td.to('J/(min*kg)')\n",
    "f1 = 3*u('MeV')\n",
    "f2 = 6*u('MeV')\n",
    "f3 = 9*u('MeV')\n",
    "um3 = 0.0397*u('cm**2/g')\n",
    "um6 = 0.0277*u('cm**2/g')\n",
    "um9 = 0.0232*u('cm**2/g')\n"
   ]
  },
  {
   "cell_type": "markdown",
   "id": "72bcdcf0-9343-47d6-a4f9-9d07638187fc",
   "metadata": {},
   "source": [
    "Calulamos la tasa de exposicion a 10 cm de la fte"
   ]
  },
  {
   "cell_type": "code",
   "execution_count": 91,
   "id": "4ebd9ad3-655f-43b5-afb9-0bbf2a7cfe4a",
   "metadata": {
    "tags": []
   },
   "outputs": [
    {
     "name": "stdout",
     "output_type": "stream",
     "text": [
      "Tasa de expo a 10com:\n",
      "22819.952853977404 roentgen / minute\n",
      "La exposicion durante 5min sera:\n",
      "113647.68617451786 roentgen\n"
     ]
    }
   ],
   "source": [
    "tx = td/(33.97*u('J/C'))\n",
    "TA = tx*100**2*u('cm**2')\n",
    "tx = TA/(10**2*u('cm**2'))\n",
    "print(\"Tasa de expo a 10com:\")\n",
    "print(tx.to('roentgen/min'))\n",
    "tx_h2o =(tx*np.exp(-0.1*(um3).magnitude)).to('roentgen/min')\n",
    "print(\"La exposicion durante 5min sera:\")\n",
    "x = tx_h2o*5*u('min')\n",
    "print(x)"
   ]
  },
  {
   "cell_type": "markdown",
   "id": "a7fab201-1dc1-4322-a20e-3906c2aeeace",
   "metadata": {},
   "source": [
    "Ahora obtenemos las cargas considerando el volumen util de la camara y que el gas presente en ella es aire"
   ]
  },
  {
   "cell_type": "code",
   "execution_count": 92,
   "id": "3f55ce15-bd45-49bf-b21c-10ead7064ece",
   "metadata": {},
   "outputs": [
    {
     "name": "stdout",
     "output_type": "stream",
     "text": [
      "2.251860712936367e-05 coulomb\n"
     ]
    }
   ],
   "source": [
    "V = 0.6*u('cm**3')\n",
    "densidad_aire = 1.28*u('kg/m**3')\n",
    "m = (V*densidad_aire).to('kg')\n",
    "Q = x*m\n",
    "print(Q.to('C'))"
   ]
  },
  {
   "cell_type": "markdown",
   "id": "bdad72d8-1f61-40a8-83a1-1234d5f7e4a1",
   "metadata": {
    "tags": []
   },
   "source": [
    "La ionización se realiza en aire, entonces para los e de 3MeV\n"
   ]
  },
  {
   "cell_type": "code",
   "execution_count": 77,
   "id": "d51c8fb2-a811-440b-bd6b-151644509ea9",
   "metadata": {},
   "outputs": [
    {
     "name": "stdout",
     "output_type": "stream",
     "text": [
      "88313.21754489256 dimensionless\n",
      "140741294558522.94 dimensionless\n",
      "El nro de fotones detectados es\n",
      "1.594E+09 dimensionless\n"
     ]
    }
   ],
   "source": [
    "paresiones = f1.to('eV')/(33.97*u('eV'))\n",
    "print(paresiones)\n",
    "nroe = Q.to('C')/(1.6*10**-19*u('C'))\n",
    "print(nroe)\n",
    "nrofotones = nroe/paresiones\n",
    "print(\"El nro de fotones detectados es\")\n",
    "print(format(nrofotones,'.3E'))"
   ]
  },
  {
   "cell_type": "markdown",
   "id": "cec373dc-276f-4d11-ab0b-460eabd4f0d4",
   "metadata": {
    "tags": []
   },
   "source": [
    "Consideramos una eficiencia del 6% (**consultar**), por lo que la cantidad de fotones que son emitidos es:"
   ]
  },
  {
   "cell_type": "code",
   "execution_count": 78,
   "id": "2c40449f-18b4-4134-a799-12d4f7aebd82",
   "metadata": {},
   "outputs": [
    {
     "name": "stdout",
     "output_type": "stream",
     "text": [
      "El nro de fotones que llegan a la fuente es de:\n",
      "2.656E+10 dimensionless\n"
     ]
    }
   ],
   "source": [
    "nrofotones/0.06\n",
    "print(\"El nro de fotones que llegan a la fuente es de:\")\n",
    "print(format(nrofotones/0.06, '.3E'))"
   ]
  },
  {
   "cell_type": "code",
   "execution_count": 98,
   "id": "96fdae8e-7ba5-4975-9911-d0673faf7501",
   "metadata": {},
   "outputs": [
    {
     "ename": "SyntaxError",
     "evalue": "invalid syntax (1192922511.py, line 1)",
     "output_type": "error",
     "traceback": [
      "\u001b[0;36m  Input \u001b[0;32mIn [98]\u001b[0;36m\u001b[0m\n\u001b[0;31m    from mis cosas import('multigamma.txt')\u001b[0m\n\u001b[0m             ^\u001b[0m\n\u001b[0;31mSyntaxError\u001b[0m\u001b[0;31m:\u001b[0m invalid syntax\n"
     ]
    }
   ],
   "source": []
  },
  {
   "cell_type": "markdown",
   "id": "16ea8a9c-f095-4d7c-bbcf-742fdba0300f",
   "metadata": {},
   "source": [
    "**Problema 2**"
   ]
  },
  {
   "cell_type": "code",
   "execution_count": 120,
   "id": "25632afd-d115-41b7-9d2a-16ea93629f44",
   "metadata": {
    "tags": []
   },
   "outputs": [
    {
     "name": "stdout",
     "output_type": "stream",
     "text": [
      "0.3911770294773732 kilobecquerel\n",
      "2.3852705511822294 kilobecquerel\n",
      "17.692727898051242 kilobecquerel\n"
     ]
    }
   ],
   "source": [
    "\n",
    "\n",
    "A0_mn54 = 2.26*u('kBq')\n",
    "A0_cs137 = 18.6*u('kBq')\n",
    "A0_co60 = 3.17*u('kBq')\n",
    "t12_co60 = 1925.28*u('days')\n",
    "t12_cs137 = 30*365*u('days')\n",
    "t12_mn54 = 312.2*u('days')\n",
    "\n",
    "A_mn54 = A0_mn54*np.exp(-(np.log(2)/t12_mn54.magnitude)*790)\n",
    "print(format(A_mn54))\n",
    "A_co60 = A0_co60*np.exp(-(np.log(2)/t12_co60.magnitude)*790)\n",
    "print(A_co60)\n",
    "A_cs137 = A0_cs137*np.exp(-(np.log(2)/(t12_cs137.magnitude)*790))\n",
    "print(A_cs137)"
   ]
  },
  {
   "cell_type": "code",
   "execution_count": null,
   "id": "93eb0988-cc24-443e-8643-41055184bd01",
   "metadata": {
    "tags": []
   },
   "outputs": [],
   "source": []
  }
 ],
 "metadata": {
  "kernelspec": {
   "display_name": "anaconda-2022.05-py39",
   "language": "python",
   "name": "conda-env-anaconda-2022.05-py39-py"
  },
  "language_info": {
   "codemirror_mode": {
    "name": "ipython",
    "version": 3
   },
   "file_extension": ".py",
   "mimetype": "text/x-python",
   "name": "python",
   "nbconvert_exporter": "python",
   "pygments_lexer": "ipython3",
   "version": "3.9.12"
  }
 },
 "nbformat": 4,
 "nbformat_minor": 5
}
