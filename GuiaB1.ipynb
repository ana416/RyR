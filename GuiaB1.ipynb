{
 "cells": [
  {
   "cell_type": "code",
   "execution_count": null,
   "id": "a93846a4-afa6-46ec-b4c8-02f7c6543763",
   "metadata": {},
   "outputs": [],
   "source": [
    "from pint import UnitRegistry \n",
    "import matplotlib.pyplot as plt\n",
    "%matplotlib inline\n",
    "import numpy as np\n",
    "u = UnitRegistry()"
   ]
  },
  {
   "cell_type": "markdown",
   "id": "dfa772de-2fc8-4c4c-9c57-1f3d92866a5f",
   "metadata": {
    "tags": []
   },
   "source": [
    "**Problema 1**\n"
   ]
  },
  {
   "cell_type": "code",
   "execution_count": 6,
   "id": "eab4197b-ae9c-4125-8134-640c48ad2f73",
   "metadata": {},
   "outputs": [],
   "source": [
    "#declaracion de datos\n",
    "td = 200*u('cGy/min')\n",
    "f1 = 3*u('MeV')\n",
    "f2 = 6*u('MeV')\n",
    "f3 = 9*u('MeV')\n",
    "um3 = 0.0397*u('cm**2/g')\n",
    "um6 = 0.0277*u('cm**2/g')\n",
    "um9 = 0.0232*u('cm**2/g')"
   ]
  },
  {
   "cell_type": "markdown",
   "id": "72bcdcf0-9343-47d6-a4f9-9d07638187fc",
   "metadata": {},
   "source": [
    "*Inciso a:*\n",
    "\n",
    "Calulamos la exposición sobre el detector y durante los 5 minutos"
   ]
  },
  {
   "cell_type": "code",
   "execution_count": 7,
   "id": "4ebd9ad3-655f-43b5-afb9-0bbf2a7cfe4a",
   "metadata": {
    "tags": []
   },
   "outputs": [
    {
     "name": "stdout",
     "output_type": "stream",
     "text": [
      "Tasa de expo a 90 cm de la fuente:\n",
      "228.1995285397741 roentgen / minute\n",
      "La exposicion en el detector a los 5min sera:\n",
      "947.0759732754368 roentgen\n"
     ]
    }
   ],
   "source": [
    "tx = td/(33.97*u('J/C'))\n",
    "gamma_A = tx*100**2*u('cm**2')\n",
    "tx_90 = gamma_A/(90**2*u('cm**2'))\n",
    "print(\"Tasa de expo a 90 cm de la fuente:\")\n",
    "print(tx.to('roentgen/min'))\n",
    "tx_h2o =(tx_90*np.exp(-10*(um3).magnitude)).to('roentgen/min')\n",
    "print(\"La exposicion en el detector a los 5min sera:\")\n",
    "x = tx_h2o*5*u('min')\n",
    "print(x)"
   ]
  },
  {
   "cell_type": "markdown",
   "id": "a7fab201-1dc1-4322-a20e-3906c2aeeace",
   "metadata": {},
   "source": [
    "Ahora obtenemos las cargas considerando el volumen util de la camara y que el gas presente en ella es aire"
   ]
  },
  {
   "cell_type": "code",
   "execution_count": 8,
   "id": "3f55ce15-bd45-49bf-b21c-10ead7064ece",
   "metadata": {},
   "outputs": [
    {
     "name": "stdout",
     "output_type": "stream",
     "text": [
      "1.8765742164868818e-07 coulomb\n"
     ]
    }
   ],
   "source": [
    "V = 0.6*u('cm**3')\n",
    "densidad_aire = 1.28*u('kg/m**3')\n",
    "m = (V*densidad_aire).to('kg')\n",
    "Q = x*m\n",
    "print(Q.to('C'))"
   ]
  },
  {
   "cell_type": "markdown",
   "id": "bdad72d8-1f61-40a8-83a1-1234d5f7e4a1",
   "metadata": {
    "tags": []
   },
   "source": [
    "La ionización se realiza en aire, entonces para los fotones de 3MeV\n"
   ]
  },
  {
   "cell_type": "code",
   "execution_count": 9,
   "id": "d51c8fb2-a811-440b-bd6b-151644509ea9",
   "metadata": {},
   "outputs": [
    {
     "name": "stdout",
     "output_type": "stream",
     "text": [
      "El nro de fotones detectados es:  1.328E+07\n"
     ]
    }
   ],
   "source": [
    "paresiones = f1.to('eV')/(33.97*u('eV'))\n",
    "#print(paresiones)\n",
    "nroe = Q.to('C')/(1.6*10**-19*u('C'))\n",
    "#print(nroe)\n",
    "nrofotones = nroe/paresiones\n",
    "print(\"El nro de fotones detectados es: \",format(nrofotones.magnitude,'.3E'))"
   ]
  },
  {
   "cell_type": "markdown",
   "id": "7896ab55-30ec-462d-b2b8-389ea1b766ea",
   "metadata": {
    "tags": []
   },
   "source": [
    "Extrapolamos para determinar la eficiencia y asi hallar la cantidad de fotones que llegan al detector"
   ]
  },
  {
   "cell_type": "code",
   "execution_count": 10,
   "id": "69b02a2c-2d5c-471b-8328-dfff21f26ecb",
   "metadata": {},
   "outputs": [
    {
     "data": {
      "text/plain": [
       "array(7.17110266)"
      ]
     },
     "execution_count": 10,
     "metadata": {},
     "output_type": "execute_result"
    }
   ],
   "source": [
    "from scipy import interpolate\n",
    "eficiencias = [2, 4] \n",
    "energias = [280,1332]\n",
    "f = interpolate.interp1d(energias, eficiencias, fill_value = \"extrapolate\")\n",
    "f(3000)"
   ]
  },
  {
   "cell_type": "markdown",
   "id": "cec373dc-276f-4d11-ab0b-460eabd4f0d4",
   "metadata": {
    "tags": []
   },
   "source": [
    "Consideramos una eficiencia (máxima) del 7.17%, por lo que la cantidad de fotones que son emitidos es:"
   ]
  },
  {
   "cell_type": "code",
   "execution_count": 12,
   "id": "2c40449f-18b4-4134-a799-12d4f7aebd82",
   "metadata": {},
   "outputs": [
    {
     "name": "stdout",
     "output_type": "stream",
     "text": [
      "El nro de fotones que llegan a la fuente es de:\n",
      "1.852E+08\n"
     ]
    }
   ],
   "source": [
    "print(\"El nro de fotones que llegan a la fuente es de:\")\n",
    "print(format(100*nrofotones.magnitude/f(3000), '.3E'))"
   ]
  },
  {
   "cell_type": "markdown",
   "id": "f70ab414-26e2-46ea-980c-9de461759a6a",
   "metadata": {
    "tags": []
   },
   "source": [
    "*inciso b:*\n",
    "\n",
    "Para determinar la dosis depostiada en la camara bajo las mismas condiciones, utilizamos la exposición obtenida en el inciso anterior y el factor de conversión a dosis, que para agua y 3MeV es de 0.971\n"
   ]
  },
  {
   "cell_type": "code",
   "execution_count": 13,
   "id": "3b3574de-7dff-4ff3-8fcc-c422c0247c56",
   "metadata": {
    "tags": []
   },
   "outputs": [
    {
     "name": "stdout",
     "output_type": "stream",
     "text": [
      "La dosis depositada en el detector durante 5min sera: 919.6107700504491 centigray\n"
     ]
    }
   ],
   "source": [
    "#usando el factor \n",
    "fc = 0.971*u('cGy/roentgen')\n",
    "D = fc*x\n",
    "print(\"La dosis depositada en el detector durante 5min sera:\", D)\n"
   ]
  },
  {
   "cell_type": "markdown",
   "id": "16ea8a9c-f095-4d7c-bbcf-742fdba0300f",
   "metadata": {},
   "source": [
    "**Problema 2**"
   ]
  },
  {
   "cell_type": "markdown",
   "id": "81a37d81-108e-4fd5-b226-25efaa4d2b0b",
   "metadata": {},
   "source": [
    "*Inciso b*\n",
    "\n",
    "Se determina la actividad para Co60, Mn54 y Cs137"
   ]
  },
  {
   "cell_type": "code",
   "execution_count": 17,
   "id": "25632afd-d115-41b7-9d2a-16ea93629f44",
   "metadata": {
    "tags": []
   },
   "outputs": [
    {
     "name": "stdout",
     "output_type": "stream",
     "text": [
      "Actividad para el mn54: 0.3911770294773732 kilobecquerel\n",
      "Actividad para el co60:  2.3852705511822294 kilobecquerel\n",
      "Actividad para el co57:  0.0702642724664404 kilobecquerel\n",
      "Actividad para el cs137:  1.2936618248037466 kilobecquerel\n",
      "Actividad para el cs134:  8.979026792103568 kilobecquerel\n",
      "Actividad para el am241:  1.165943906863513 kilobecquerel\n",
      "Actividad para el cd109:  16.234093405985007 kilobecquerel\n"
     ]
    }
   ],
   "source": [
    "def A(A0, t12, t):\n",
    "    #para tiempo y t12 en mismas unidades\n",
    "    A = A0*np.exp(-(np.log(2)/t12.magnitude)*t.magnitude)\n",
    "    return A\n",
    "\n",
    "A0_mn54 = 2.26*u('kBq')\n",
    "A0_cs137 = 1.36*u('kBq')\n",
    "A0_co60 = 3.17*u('kBq')\n",
    "A0_co57 =0.53*u('kBq')\n",
    "A0_cs134 =18.6*u('kBq')\n",
    "A0_cd109 =53.11*u('kBq')\n",
    "A0_am241 =1.17*u('kBq')\n",
    "t12_co60 = 1925.28*u('days')\n",
    "t12_cs137 = 30*365*u('days')\n",
    "t12_mn54 = 312.2*u('days')\n",
    "t12_co57 = 271*u('days')\n",
    "t12_cd109 = 462*u('days')\n",
    "t12_cs134 = 2.06*365*u('days')\n",
    "t12_am241 = 432*365*u('days')\n",
    "tiempo = 790*u('days')\n",
    "A_mn54 = A(A0_mn54, t12_mn54, tiempo)\n",
    "print(\"Actividad para el mn54:\" , format(A_mn54))\n",
    "A_co60 = A(A0_co60, t12_co60, tiempo)\n",
    "print(\"Actividad para el co60: \",A_co60)\n",
    "A_co57 = A(A0_co57, t12_co57, tiempo)\n",
    "print(\"Actividad para el co57: \",A_co57)\n",
    "A_cs137 = A(A0_cs137, t12_cs137, tiempo)\n",
    "print(\"Actividad para el cs137: \", A_cs137)\n",
    "A_cs134 = A(A0_cs134, t12_cs134, tiempo)\n",
    "print(\"Actividad para el cs134: \", A_cs134)\n",
    "A_am241= A(A0_am241, t12_am241, tiempo)\n",
    "print(\"Actividad para el am241: \",A_am241)\n",
    "A_cd109 = A(A0_cd109, t12_cd109, tiempo)\n",
    "print(\"Actividad para el cd109: \", A_cd109)"
   ]
  },
  {
   "cell_type": "code",
   "execution_count": 23,
   "id": "93eb0988-cc24-443e-8643-41055184bd01",
   "metadata": {
    "tags": []
   },
   "outputs": [
    {
     "data": {
      "image/png": "[encoded data removed]",
      "text/plain": [
       "<Figure size 640x480 with 1 Axes>"
      ]
     },
     "metadata": {},
     "output_type": "display_data"
    }
   ],
   "source": [
    "#Grafica del espectro\n",
    "import pandas as pd\n",
    "multigamma = pd.read_table(\"multigamma.txt\", names =[\"Nro Ctas\"])\n",
    "multigamma\n",
    "nrocanal = np.arange(0*0.41,4096*0.41,1*0.41)\n",
    "fig, ax = plt.subplots()\n",
    "ax.plot(nrocanal, multigamma[\"Nro Ctas\"])\n",
    "ax.set(xlabel='Energia[keV]', ylabel='Numero de Cuentas', title='Multigamma')\n",
    "ax.grid()\n",
    "plt.show()"
   ]
  },
  {
   "cell_type": "markdown",
   "id": "67e5da43-0ea1-4572-9818-cb293bebb5a9",
   "metadata": {
    "tags": []
   },
   "source": [
    "*Inciso f*\n",
    "\n",
    "Determino la cantidad de fotones que fueron emitidos"
   ]
  },
  {
   "cell_type": "code",
   "execution_count": 22,
   "id": "74dc9064-cd9f-4f0e-9b15-eec8fce4daa4",
   "metadata": {},
   "outputs": [
    {
     "name": "stdout",
     "output_type": "stream",
     "text": [
      "Para cada pico del Co60:  1431162.3307093377\n",
      "Para el mn54:  469412.43537284783\n",
      "Para el cs137:  1319535.0612998216\n"
     ]
    }
   ],
   "source": [
    "def nro_fotones(A, t, p):\n",
    "    A = A.to('Bq')\n",
    "    nro_f = A*t*p\n",
    "    return nro_f.magnitude\n",
    "t = 1200*u('seconds')\n",
    "fotones_co60 = nro_fotones(A_co60, t, 1)/2\n",
    "print(\"Para cada pico del Co60: \", fotones_co60)\n",
    "fotones_mn54 = nro_fotones(A_mn54, t, 1)\n",
    "print(\"Para el mn54: \", fotones_mn54)\n",
    "fotones_cs137 = nro_fotones(A_cs137, t, 0.85)\n",
    "print(\"Para el cs137: \", fotones_cs137)\n"
   ]
  },
  {
   "cell_type": "markdown",
   "id": "e1e9d7fc-3e38-419c-9332-a9f4cfc07e5e",
   "metadata": {},
   "source": [
    "Luego, consideramos el nro de cuentas y determinamos la eficiencia"
   ]
  },
  {
   "cell_type": "code",
   "execution_count": 23,
   "id": "04876b2d-8e76-47dd-84ba-9c2f0b016a5b",
   "metadata": {},
   "outputs": [
    {
     "name": "stdout",
     "output_type": "stream",
     "text": [
      "Eficiencia para el mn54: 2.535E-02\n",
      "Eficiencia para el cs137: 8.696E-03\n",
      "Eficiencia para los fotones 1.3 MeV del Co60: 4.689E-03\n",
      "Eficiencia para los fotones 1.17 MeV del Co60: 5.395E-03\n"
     ]
    }
   ],
   "source": [
    "ctas_cs137 = 11475\n",
    "ctas_mn54 = 11898\n",
    "ctas_co60_1 = 6711\n",
    "ctas_co60_2 = 7721\n",
    "\n",
    "ef_cs137 = ctas_cs137/fotones_cs137\n",
    "ef_mn54 = ctas_mn54/fotones_mn54\n",
    "ef_co60_1 = ctas_co60_1/fotones_co60\n",
    "ef_co60_2 = ctas_co60_2/fotones_co60\n",
    "\n",
    "print(\"Eficiencia para el mn54:\", format(ef_mn54, '.3E'))\n",
    "print(\"Eficiencia para el cs137:\", format(ef_cs137, '.3E'))\n",
    "print(\"Eficiencia para los fotones 1.3 MeV del Co60:\", format(ef_co60_1, '.3E'))\n",
    "print(\"Eficiencia para los fotones 1.17 MeV del Co60:\", format(ef_co60_2, '.3E'))"
   ]
  }
 ],
 "metadata": {
  "kernelspec": {
   "display_name": "Python 3 (ipykernel)",
   "language": "python",
   "name": "python3"
  },
  "language_info": {
   "codemirror_mode": {
    "name": "ipython",
    "version": 3
   },
   "file_extension": ".py",
   "mimetype": "text/x-python",
   "name": "python",
   "nbconvert_exporter": "python",
   "pygments_lexer": "ipython3",
   "version": "3.10.9"
  }
 },
 "nbformat": 4,
 "nbformat_minor": 5
}
